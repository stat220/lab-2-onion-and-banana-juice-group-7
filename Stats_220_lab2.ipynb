{
  "nbformat": 4,
  "nbformat_minor": 0,
  "metadata": {
    "colab": {
      "provenance": []
    },
    "kernelspec": {
      "name": "python3",
      "display_name": "Python 3"
    },
    "language_info": {
      "name": "python"
    }
  },
  "cells": [
    {
      "cell_type": "code",
      "execution_count": 43,
      "metadata": {
        "id": "vCzm7kuRMgoy"
      },
      "outputs": [],
      "source": [
        "import itertools\n",
        "import pandas as pd\n",
        "import numpy as np"
      ]
    },
    {
      "cell_type": "markdown",
      "source": [
        "Function A\n",
        "<br>\n",
        "Calculating the probability of rolling m dice, each with n sides, and having the sum of the dice\n",
        "be greater than x.\n"
      ],
      "metadata": {
        "id": "pRtCEWCtOqfg"
      }
    },
    {
      "cell_type": "code",
      "source": [
        "def prob_sum(num_dice, sides, target):\n",
        "# This is a check to make sure the dice are within bounds.\n",
        "# If they aren't, it will return to try again within the bounds.\n",
        "  if num_dice <= 0 or num_dice > 4 or sides <= 0 or sides > 20:\n",
        "    return \"Try Again, please make sure the number of dice is less than 4, and the number of sides is less than 20.\"\n",
        "\n",
        "# List out all possible rolls.\n",
        "  rolls = list(itertools.product(range(1, sides+1), repeat=num_dice))\n",
        "# Find the sum of all possible rolls.\n",
        "  sums = np.array([sum(roll) for roll in rolls])\n",
        "# Find the proportion of those sums that are greater than or equal to the target.\n",
        "  probability = np.mean(sums >= target)\n",
        "\n",
        "  return probability"
      ],
      "metadata": {
        "id": "jcrG6k8OPZCQ"
      },
      "execution_count": 44,
      "outputs": []
    },
    {
      "cell_type": "markdown",
      "source": [
        "Function B\n",
        "<br>\n",
        "Determining the probability of rolling m dice, each with n sides, and having at least one die\n",
        "show a value greater than or equal to x."
      ],
      "metadata": {
        "id": "uA5ud3i3O_Qh"
      }
    },
    {
      "cell_type": "code",
      "source": [
        "def prob_at_least_one_greater_than_x(num_dice, sides, target):\n",
        "# This is a check to make sure the dice are within bounds.\n",
        "# If they aren't, it will return to try again within the bounds.\n",
        "    if num_dice <= 0 or num_dice > 4 or sides <= 0 or sides > 20:\n",
        "        return \"Try Again, please make sure the number of dice is less than 4, and the number of sides is less than 20.\"\n",
        "# List out all possible rolls.\n",
        "    rolls = list(itertools.product(range(1, sides + 1), repeat=num_dice))\n",
        "\n",
        "# Filter for successful rolls\n",
        "    successful_rolls = [roll for roll in rolls if any(die >= target for die in roll)]\n",
        "\n",
        "# Calculate and return the probability\n",
        "    return len(successful_rolls) / len(rolls)"
      ],
      "metadata": {
        "id": "dkIhY3vpR8g5"
      },
      "execution_count": 45,
      "outputs": []
    },
    {
      "cell_type": "markdown",
      "source": [
        "Walk Through Example:\n",
        "\n",
        "A player is in a challenging situation where they have a choice. They can choose between the\n",
        "following challenges:\n",
        "\n",
        "*  Roll 1d20 and get a result of 17 or more\n",
        "\n",
        "*   Roll 3d4 and get a result of 10 or more\n",
        "\n",
        "*  Roll 4d6 and have at least one dice show a 6\n",
        "\n",
        "In order to find out which choice the player should pick we can use the tools we made to find out the probability of success.\n",
        "\n",
        "For the first option we can use the prob_sum function.\n",
        "\n",
        "1.   Input the number of dice (1), number of sides (20), and the target (17).\n",
        "2.   Output will be the probability of success is 4/20 or 20% chance of success.\n",
        "\n",
        "For the second option we can use the prob_sum function again.\n",
        "\n",
        "1.   Input the number of dice (3), number of sides (4), and the target (10).\n",
        "2.   Output will be the probability of success is 15% chance of success.\n",
        "\n",
        "For the third option we can use the prob_at_least_one_greater_than_x function.\n",
        "\n",
        "1.   Input the number of dice (4), number of sides (6), and the target (6).\n",
        "2.   Output will be the probability of success is 50% chance of success.\n",
        "\n",
        "We can see the adventurer has the best shot with the last option, so they could opt for this option. It is not a guarantee that they will get the number, but odds are better than the other two options.\n",
        "\n",
        "\n",
        "\n",
        "\n"
      ],
      "metadata": {
        "id": "aneN7J_HTgRA"
      }
    },
    {
      "cell_type": "code",
      "source": [
        "option1 = prob_sum(1, 20, 17)\n",
        "option2 = prob_sum(3, 4, 10)\n",
        "option3 = prob_at_least_one_greater_than_x(1, 6, 4)\n",
        "\n",
        "options = {\n",
        "    \"Roll 1d20 and get a result of 17 or more\": option1,\n",
        "    \"Roll 3d4 and get a result of 10 or more\": option2,\n",
        "    \"Roll 4d6 and have at least one dice show a 6\": option3\n",
        "}\n",
        "\n",
        "best_option = max(options, key=options.get)\n",
        "best_option = max(options, key=options.get)\n",
        "\n",
        "print(\"Roll 1d20 and get a result of 17 or more Probability:\", option1)\n",
        "print(\"Roll 3d4 and get a result of 10 or more Probability:\", option2)\n",
        "print(\"Roll 4d6 and have at least one dice show a 6 Probability:\", option3)\n",
        "print(\"Best Option:\", best_option,)\n",
        "\n"
      ],
      "metadata": {
        "colab": {
          "base_uri": "https://localhost:8080/"
        },
        "id": "WsSBRMliZgFO",
        "outputId": "c81afce4-f5d4-4776-ca3a-891d10c18607"
      },
      "execution_count": 46,
      "outputs": [
        {
          "output_type": "stream",
          "name": "stdout",
          "text": [
            "Roll 1d20 and get a result of 17 or more Probability: 0.2\n",
            "Roll 3d4 and get a result of 10 or more Probability: 0.15625\n",
            "Roll 4d6 and have at least one dice show a 6 Probability: 0.5\n",
            "Best Option: Roll 4d6 and have at least one dice show a 6\n"
          ]
        }
      ]
    }
  ]
}